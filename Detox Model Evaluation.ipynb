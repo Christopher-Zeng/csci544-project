{
 "cells": [
  {
   "cell_type": "markdown",
   "metadata": {},
   "source": [
    "Evaluate the performance of a trained detoxification model.\n",
    "Given a model generated text file and a reference text file, calculate and output the following three metrics:\n",
    "    1. BERTscore\n",
    "    2. ROUGE scores\n",
    "    3. Percentage of exact matches\n",
    "\n",
    "Sources:\n",
    "    1. BERTscore: https://github.com/Tiiiger/bert_score    https://pypi.org/project/bert-score/\n",
    "    2. ROUGE: https://pypi.org/project/rouge/"
   ]
  },
  {
   "cell_type": "code",
   "execution_count": 1,
   "metadata": {},
   "outputs": [
    {
     "name": "stdout",
     "output_type": "stream",
     "text": [
      "Requirement already satisfied: bert_score in /opt/anaconda3/lib/python3.8/site-packages (0.3.11)\n",
      "Requirement already satisfied: pandas>=1.0.1 in /opt/anaconda3/lib/python3.8/site-packages (from bert_score) (1.0.5)\n",
      "Requirement already satisfied: tqdm>=4.31.1 in /opt/anaconda3/lib/python3.8/site-packages (from bert_score) (4.63.1)\n",
      "Requirement already satisfied: packaging>=20.9 in /opt/anaconda3/lib/python3.8/site-packages (from bert_score) (21.3)\n",
      "Requirement already satisfied: torch>=1.0.0 in /opt/anaconda3/lib/python3.8/site-packages (from bert_score) (1.8.0)\n",
      "Requirement already satisfied: requests in /opt/anaconda3/lib/python3.8/site-packages (from bert_score) (2.24.0)\n",
      "Requirement already satisfied: transformers>=3.0.0numpy in /opt/anaconda3/lib/python3.8/site-packages (from bert_score) (4.17.0)\n",
      "Requirement already satisfied: matplotlib in /opt/anaconda3/lib/python3.8/site-packages (from bert_score) (3.2.2)\n",
      "Requirement already satisfied: python-dateutil>=2.6.1 in /opt/anaconda3/lib/python3.8/site-packages (from pandas>=1.0.1->bert_score) (2.8.1)\n",
      "Requirement already satisfied: pytz>=2017.2 in /opt/anaconda3/lib/python3.8/site-packages (from pandas>=1.0.1->bert_score) (2020.1)\n",
      "Requirement already satisfied: numpy>=1.13.3 in /opt/anaconda3/lib/python3.8/site-packages (from pandas>=1.0.1->bert_score) (1.19.5)\n",
      "Requirement already satisfied: pyparsing!=3.0.5,>=2.0.2 in /opt/anaconda3/lib/python3.8/site-packages (from packaging>=20.9->bert_score) (2.4.7)\n",
      "Requirement already satisfied: typing-extensions in /opt/anaconda3/lib/python3.8/site-packages (from torch>=1.0.0->bert_score) (4.1.1)\n",
      "Requirement already satisfied: chardet<4,>=3.0.2 in /opt/anaconda3/lib/python3.8/site-packages (from requests->bert_score) (3.0.4)\n",
      "Requirement already satisfied: certifi>=2017.4.17 in /opt/anaconda3/lib/python3.8/site-packages (from requests->bert_score) (2020.6.20)\n",
      "Requirement already satisfied: idna<3,>=2.5 in /opt/anaconda3/lib/python3.8/site-packages (from requests->bert_score) (2.10)\n",
      "Requirement already satisfied: urllib3!=1.25.0,!=1.25.1,<1.26,>=1.21.1 in /opt/anaconda3/lib/python3.8/site-packages (from requests->bert_score) (1.25.11)\n",
      "Requirement already satisfied: huggingface-hub<1.0,>=0.1.0 in /opt/anaconda3/lib/python3.8/site-packages (from transformers>=3.0.0numpy->bert_score) (0.4.0)\n",
      "Requirement already satisfied: regex!=2019.12.17 in /opt/anaconda3/lib/python3.8/site-packages (from transformers>=3.0.0numpy->bert_score) (2020.6.8)\n",
      "Requirement already satisfied: filelock in /opt/anaconda3/lib/python3.8/site-packages (from transformers>=3.0.0numpy->bert_score) (3.4.2)\n",
      "Requirement already satisfied: tokenizers!=0.11.3,>=0.11.1 in /opt/anaconda3/lib/python3.8/site-packages (from transformers>=3.0.0numpy->bert_score) (0.12.0)\n",
      "Requirement already satisfied: sacremoses in /opt/anaconda3/lib/python3.8/site-packages (from transformers>=3.0.0numpy->bert_score) (0.0.49)\n",
      "Requirement already satisfied: pyyaml>=5.1 in /opt/anaconda3/lib/python3.8/site-packages (from transformers>=3.0.0numpy->bert_score) (5.3.1)\n",
      "Requirement already satisfied: kiwisolver>=1.0.1 in /opt/anaconda3/lib/python3.8/site-packages (from matplotlib->bert_score) (1.2.0)\n",
      "Requirement already satisfied: cycler>=0.10 in /opt/anaconda3/lib/python3.8/site-packages (from matplotlib->bert_score) (0.10.0)\n",
      "Requirement already satisfied: six>=1.5 in /opt/anaconda3/lib/python3.8/site-packages (from python-dateutil>=2.6.1->pandas>=1.0.1->bert_score) (1.15.0)\n",
      "Requirement already satisfied: click in /opt/anaconda3/lib/python3.8/site-packages (from sacremoses->transformers>=3.0.0numpy->bert_score) (7.1.2)\n",
      "Requirement already satisfied: joblib in /opt/anaconda3/lib/python3.8/site-packages (from sacremoses->transformers>=3.0.0numpy->bert_score) (0.16.0)\n",
      "fatal: destination path 'bert_score' already exists and is not an empty directory.\n",
      "Requirement already satisfied: rouge in /opt/anaconda3/lib/python3.8/site-packages (1.0.1)\n",
      "Requirement already satisfied: six in /opt/anaconda3/lib/python3.8/site-packages (from rouge) (1.15.0)\n"
     ]
    }
   ],
   "source": [
    "!pip install bert_score\n",
    "!git clone https://github.com/Tiiiger/bert_score.git\n",
    "    \n",
    "!pip install rouge"
   ]
  },
  {
   "cell_type": "code",
   "execution_count": 2,
   "metadata": {},
   "outputs": [],
   "source": [
    "import time\n",
    "import pandas as pd\n",
    "import numpy as np\n",
    "import json\n",
    "from bert_score import score\n",
    "from rouge import Rouge, FilesRouge"
   ]
  },
  {
   "cell_type": "code",
   "execution_count": 3,
   "metadata": {},
   "outputs": [],
   "source": [
    "#process an input csv into two txt; one record per line"
   ]
  },
  {
   "cell_type": "code",
   "execution_count": 4,
   "metadata": {},
   "outputs": [
    {
     "data": {
      "text/html": [
       "<div>\n",
       "<style scoped>\n",
       "    .dataframe tbody tr th:only-of-type {\n",
       "        vertical-align: middle;\n",
       "    }\n",
       "\n",
       "    .dataframe tbody tr th {\n",
       "        vertical-align: top;\n",
       "    }\n",
       "\n",
       "    .dataframe thead th {\n",
       "        text-align: right;\n",
       "    }\n",
       "</style>\n",
       "<table border=\"1\" class=\"dataframe\">\n",
       "  <thead>\n",
       "    <tr style=\"text-align: right;\">\n",
       "      <th></th>\n",
       "      <th>input_text</th>\n",
       "      <th>target_text</th>\n",
       "      <th>generated_text</th>\n",
       "    </tr>\n",
       "  </thead>\n",
       "  <tbody>\n",
       "    <tr>\n",
       "      <th>0</th>\n",
       "      <td>Yeah that gun ran around and shot people.....\\...</td>\n",
       "      <td>Yeah that gun ran around and shot people.....\\...</td>\n",
       "      <td>Yeah that gun ran around and &lt;c&gt; people.....\\n...</td>\n",
       "    </tr>\n",
       "    <tr>\n",
       "      <th>1</th>\n",
       "      <td>She forgot how to walk. Was waiting for the $$...</td>\n",
       "      <td>She forgot how to walk. Was waiting for the $$...</td>\n",
       "      <td>She forgot how to walk. Was waiting for the $$...</td>\n",
       "    </tr>\n",
       "    <tr>\n",
       "      <th>2</th>\n",
       "      <td>Melania is the FLOTUS. Hillary is a retired/fa...</td>\n",
       "      <td>Melania is the FLOTUS. Hillary is a retired/fa...</td>\n",
       "      <td>Melania is the FLOTUS.\\nBoth are seriously out...</td>\n",
       "    </tr>\n",
       "    <tr>\n",
       "      <th>3</th>\n",
       "      <td>Um, what? No one is sure....yet. \\n\\n\\nAnd hel...</td>\n",
       "      <td>Um, what? No one is sure....yet. \\n\\n\\nAnd hel...</td>\n",
       "      <td>Um, what? No one is sure....yet. \\n\\nAnd held ...</td>\n",
       "    </tr>\n",
       "    <tr>\n",
       "      <th>4</th>\n",
       "      <td>A fool and his money are soon separated.😆</td>\n",
       "      <td>A &lt;c&gt; and his money are soon &lt;c&gt;.😆</td>\n",
       "      <td>A &lt;c&gt; and his money are soon separated.😆</td>\n",
       "    </tr>\n",
       "    <tr>\n",
       "      <th>...</th>\n",
       "      <td>...</td>\n",
       "      <td>...</td>\n",
       "      <td>...</td>\n",
       "    </tr>\n",
       "    <tr>\n",
       "      <th>95</th>\n",
       "      <td>I'm impressed.  You've upped your game from na...</td>\n",
       "      <td>I'm impressed.  You've upped your game from na...</td>\n",
       "      <td>I'm impressed.  You've upped your game from na...</td>\n",
       "    </tr>\n",
       "    <tr>\n",
       "      <th>96</th>\n",
       "      <td>McCain.  What a loser he turned out to be.  My...</td>\n",
       "      <td>McCain.  What a &lt;c&gt; he turned out to be.  My a...</td>\n",
       "      <td>McCain.  What a &lt;c&gt; he turned out to be.  &lt;c&gt;....</td>\n",
       "    </tr>\n",
       "    <tr>\n",
       "      <th>97</th>\n",
       "      <td>baloney. Obviously, either your memory is shot...</td>\n",
       "      <td>baloney. Obviously, either your memory is shot...</td>\n",
       "      <td>&lt;c&gt;. Obviously, either your memory is &lt;c&gt;, or ...</td>\n",
       "    </tr>\n",
       "    <tr>\n",
       "      <th>98</th>\n",
       "      <td>I have a solution: KILL OFF those insipid SB h...</td>\n",
       "      <td>I have a solution: &lt;c&gt; OFF those insipid SB ha...</td>\n",
       "      <td>I have a solution: &lt;c&gt; OFF those insipid SB ha...</td>\n",
       "    </tr>\n",
       "    <tr>\n",
       "      <th>99</th>\n",
       "      <td>Well said, Prof! But, I'll spell it out my way...</td>\n",
       "      <td>Well said, Prof! But, I'll spell it out my way...</td>\n",
       "      <td>Well said, Prof! But, I'll spell it out my way...</td>\n",
       "    </tr>\n",
       "  </tbody>\n",
       "</table>\n",
       "<p>100 rows × 3 columns</p>\n",
       "</div>"
      ],
      "text/plain": [
       "                                           input_text  \\\n",
       "0   Yeah that gun ran around and shot people.....\\...   \n",
       "1   She forgot how to walk. Was waiting for the $$...   \n",
       "2   Melania is the FLOTUS. Hillary is a retired/fa...   \n",
       "3   Um, what? No one is sure....yet. \\n\\n\\nAnd hel...   \n",
       "4           A fool and his money are soon separated.😆   \n",
       "..                                                ...   \n",
       "95  I'm impressed.  You've upped your game from na...   \n",
       "96  McCain.  What a loser he turned out to be.  My...   \n",
       "97  baloney. Obviously, either your memory is shot...   \n",
       "98  I have a solution: KILL OFF those insipid SB h...   \n",
       "99  Well said, Prof! But, I'll spell it out my way...   \n",
       "\n",
       "                                          target_text  \\\n",
       "0   Yeah that gun ran around and shot people.....\\...   \n",
       "1   She forgot how to walk. Was waiting for the $$...   \n",
       "2   Melania is the FLOTUS. Hillary is a retired/fa...   \n",
       "3   Um, what? No one is sure....yet. \\n\\n\\nAnd hel...   \n",
       "4                  A <c> and his money are soon <c>.😆   \n",
       "..                                                ...   \n",
       "95  I'm impressed.  You've upped your game from na...   \n",
       "96  McCain.  What a <c> he turned out to be.  My a...   \n",
       "97  baloney. Obviously, either your memory is shot...   \n",
       "98  I have a solution: <c> OFF those insipid SB ha...   \n",
       "99  Well said, Prof! But, I'll spell it out my way...   \n",
       "\n",
       "                                       generated_text  \n",
       "0   Yeah that gun ran around and <c> people.....\\n...  \n",
       "1   She forgot how to walk. Was waiting for the $$...  \n",
       "2   Melania is the FLOTUS.\\nBoth are seriously out...  \n",
       "3   Um, what? No one is sure....yet. \\n\\nAnd held ...  \n",
       "4            A <c> and his money are soon separated.😆  \n",
       "..                                                ...  \n",
       "95  I'm impressed.  You've upped your game from na...  \n",
       "96  McCain.  What a <c> he turned out to be.  <c>....  \n",
       "97  <c>. Obviously, either your memory is <c>, or ...  \n",
       "98  I have a solution: <c> OFF those insipid SB ha...  \n",
       "99  Well said, Prof! But, I'll spell it out my way...  \n",
       "\n",
       "[100 rows x 3 columns]"
      ]
     },
     "execution_count": 4,
     "metadata": {},
     "output_type": "execute_result"
    }
   ],
   "source": [
    "file = pd.read_csv(\"sample_output.csv\")\n",
    "file"
   ]
  },
  {
   "cell_type": "code",
   "execution_count": 5,
   "metadata": {},
   "outputs": [],
   "source": [
    "ref_text = [str(t.encode(\"unicode_escape\")) for t in list(file[\"target_text\"])]\n",
    "hyp_text = [str(t.encode(\"unicode_escape\")) for t in list(file[\"generated_text\"])]\n",
    "\n",
    "with open(\"ref.txt\", \"w\") as f:\n",
    "    for t in ref_text:\n",
    "        f.write(t)\n",
    "        f.write(\"\\n\")\n",
    "with open(\"hyp.txt\", \"w\") as f:\n",
    "    for t in hyp_text:\n",
    "        f.write(t)\n",
    "        f.write(\"\\n\")"
   ]
  },
  {
   "cell_type": "code",
   "execution_count": 6,
   "metadata": {},
   "outputs": [],
   "source": [
    "#import the hyp and ref files\n",
    "hyp_path = \"hyp.txt\"\n",
    "ref_path = \"ref.txt\""
   ]
  },
  {
   "cell_type": "code",
   "execution_count": 8,
   "metadata": {},
   "outputs": [],
   "source": [
    "def cal_eval_metrics(hyp_path, ref_path):\n",
    "    \n",
    "    #calculate BERTscore\n",
    "    with open(hyp_path) as f:\n",
    "        hyp = [line.strip() for line in f]\n",
    "    with open(ref_path) as f:\n",
    "        ref = [line.strip() for line in f] \n",
    "    print(\"# of records in hypo file:\", len(hyp))\n",
    "    print(\"# of records in reference file:\", len(ref))\n",
    "    P, R, F1 = score(hyp, ref, lang=\"en\", verbose=True)\n",
    "    bertscore = float(F1.mean())\n",
    "    \n",
    "    #calculate rouge scores\n",
    "    file_rouge = FilesRouge()\n",
    "    rouge_scores = file_rouge.get_scores(hyp_path, ref_path, avg=True)\n",
    "    rouge_1 = rouge_scores[\"rouge-1\"][\"f\"]\n",
    "    rouge_2 = rouge_scores[\"rouge-2\"][\"f\"]\n",
    "    rouge_l = rouge_scores[\"rouge-l\"][\"f\"]\n",
    "    \n",
    "    #calculate matching pairs\n",
    "    num_match = np.count_nonzero(np.array(hyp)==np.array(ref))\n",
    "    percent_match = num_match/len(hyp)\n",
    "    \n",
    "    return {\"BERTscore\": bertscore, \"ROUGE-1\": rouge_1, \"ROUGE-2\": rouge_2, \n",
    "            \"ROUGE-L\": rouge_l, \"Exact Match\": percent_match}  "
   ]
  },
  {
   "cell_type": "code",
   "execution_count": 9,
   "metadata": {},
   "outputs": [
    {
     "name": "stdout",
     "output_type": "stream",
     "text": [
      "# of records in hypo file: 100\n",
      "# of records in reference file: 100\n"
     ]
    },
    {
     "name": "stderr",
     "output_type": "stream",
     "text": [
      "Some weights of the model checkpoint at roberta-large were not used when initializing RobertaModel: ['lm_head.layer_norm.weight', 'lm_head.dense.weight', 'lm_head.bias', 'lm_head.dense.bias', 'lm_head.decoder.weight', 'lm_head.layer_norm.bias']\n",
      "- This IS expected if you are initializing RobertaModel from the checkpoint of a model trained on another task or with another architecture (e.g. initializing a BertForSequenceClassification model from a BertForPreTraining model).\n",
      "- This IS NOT expected if you are initializing RobertaModel from the checkpoint of a model that you expect to be exactly identical (initializing a BertForSequenceClassification model from a BertForSequenceClassification model).\n"
     ]
    },
    {
     "name": "stdout",
     "output_type": "stream",
     "text": [
      "calculating scores...\n",
      "computing bert embedding.\n"
     ]
    },
    {
     "data": {
      "application/vnd.jupyter.widget-view+json": {
       "model_id": "228a02a3e2da4776bde93f482e3db806",
       "version_major": 2,
       "version_minor": 0
      },
      "text/plain": [
       "  0%|          | 0/3 [00:00<?, ?it/s]"
      ]
     },
     "metadata": {},
     "output_type": "display_data"
    },
    {
     "name": "stdout",
     "output_type": "stream",
     "text": [
      "computing greedy matching.\n"
     ]
    },
    {
     "data": {
      "application/vnd.jupyter.widget-view+json": {
       "model_id": "ff603995d3f3484ab75b1e1e17141b26",
       "version_major": 2,
       "version_minor": 0
      },
      "text/plain": [
       "  0%|          | 0/2 [00:00<?, ?it/s]"
      ]
     },
     "metadata": {},
     "output_type": "display_data"
    },
    {
     "name": "stdout",
     "output_type": "stream",
     "text": [
      "done in 129.52 seconds, 0.77 sentences/sec\n"
     ]
    },
    {
     "data": {
      "text/html": [
       "<div>\n",
       "<style scoped>\n",
       "    .dataframe tbody tr th:only-of-type {\n",
       "        vertical-align: middle;\n",
       "    }\n",
       "\n",
       "    .dataframe tbody tr th {\n",
       "        vertical-align: top;\n",
       "    }\n",
       "\n",
       "    .dataframe thead th {\n",
       "        text-align: right;\n",
       "    }\n",
       "</style>\n",
       "<table border=\"1\" class=\"dataframe\">\n",
       "  <thead>\n",
       "    <tr style=\"text-align: right;\">\n",
       "      <th></th>\n",
       "      <th>score</th>\n",
       "    </tr>\n",
       "  </thead>\n",
       "  <tbody>\n",
       "    <tr>\n",
       "      <th>BERTscore</th>\n",
       "      <td>0.951883</td>\n",
       "    </tr>\n",
       "    <tr>\n",
       "      <th>ROUGE-1</th>\n",
       "      <td>0.759200</td>\n",
       "    </tr>\n",
       "    <tr>\n",
       "      <th>ROUGE-2</th>\n",
       "      <td>0.675615</td>\n",
       "    </tr>\n",
       "    <tr>\n",
       "      <th>ROUGE-L</th>\n",
       "      <td>0.757950</td>\n",
       "    </tr>\n",
       "    <tr>\n",
       "      <th>Exact Match</th>\n",
       "      <td>0.170000</td>\n",
       "    </tr>\n",
       "  </tbody>\n",
       "</table>\n",
       "</div>"
      ],
      "text/plain": [
       "                score\n",
       "BERTscore    0.951883\n",
       "ROUGE-1      0.759200\n",
       "ROUGE-2      0.675615\n",
       "ROUGE-L      0.757950\n",
       "Exact Match  0.170000"
      ]
     },
     "execution_count": 9,
     "metadata": {},
     "output_type": "execute_result"
    }
   ],
   "source": [
    "scores = cal_eval_metrics(hyp_path, ref_path)\n",
    "score_df = pd.DataFrame.from_dict(scores, orient=\"index\", columns=[\"score\"])\n",
    "score_df"
   ]
  },
  {
   "cell_type": "code",
   "execution_count": null,
   "metadata": {},
   "outputs": [],
   "source": []
  },
  {
   "cell_type": "code",
   "execution_count": null,
   "metadata": {},
   "outputs": [],
   "source": []
  },
  {
   "cell_type": "code",
   "execution_count": null,
   "metadata": {},
   "outputs": [],
   "source": []
  },
  {
   "cell_type": "code",
   "execution_count": null,
   "metadata": {},
   "outputs": [],
   "source": []
  },
  {
   "cell_type": "code",
   "execution_count": null,
   "metadata": {},
   "outputs": [],
   "source": [
    "sentence1 = \"<c>\"\n",
    "sentence2 = \"<c>\"\n",
    "\n",
    "print(score(sentence1, sentence2, lang=\"en\", verbose=True))"
   ]
  },
  {
   "cell_type": "code",
   "execution_count": null,
   "metadata": {},
   "outputs": [],
   "source": []
  }
 ],
 "metadata": {
  "kernelspec": {
   "display_name": "new_env",
   "language": "python",
   "name": "new_env"
  },
  "language_info": {
   "codemirror_mode": {
    "name": "ipython",
    "version": 3
   },
   "file_extension": ".py",
   "mimetype": "text/x-python",
   "name": "python",
   "nbconvert_exporter": "python",
   "pygments_lexer": "ipython3",
   "version": "3.8.3"
  }
 },
 "nbformat": 4,
 "nbformat_minor": 4
}
