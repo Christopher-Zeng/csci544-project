{
 "cells": [
  {
   "cell_type": "code",
   "execution_count": 2,
   "metadata": {},
   "outputs": [],
   "source": [
    "import pandas as pd\n",
    "from datasets import Dataset, DatasetDict\n",
    "\n",
    "data_path = \"./data/toxic_spans\"\n",
    "filename = \"toxic_span_text_pairs.csv\"\n",
    "splits = [\"train\", \"eval\", \"test\"]\n",
    "\n",
    "dataset_dict = DatasetDict(\n",
    "    {\n",
    "        split: Dataset.from_pandas(\n",
    "            pd.read_csv(\n",
    "                data_path + \"/\" + filename.replace(\".csv\", \"_\" + split + \".csv\")\n",
    "            )\n",
    "        )\n",
    "        for split in splits\n",
    "    }\n",
    ")"
   ]
  },
  {
   "cell_type": "code",
   "execution_count": 3,
   "metadata": {},
   "outputs": [],
   "source": [
    "import torch\n",
    "\n",
    "\n",
    "def detox(tokenizer, model_buffered, batched_inputs):\n",
    "    input_sequence_buffered = tokenizer(\n",
    "        batched_inputs, padding=\"longest\", pad_to_multiple_of=8, return_tensors=\"pt\"\n",
    "    ).to(\"cuda\")\n",
    "    with torch.no_grad():\n",
    "        output_sequence = model_buffered.generate(\n",
    "            input_ids=input_sequence_buffered[\"input_ids\"],\n",
    "            attention_mask=input_sequence_buffered[\"attention_mask\"],\n",
    "        )\n",
    "    del input_sequence_buffered\n",
    "    generated = [\n",
    "        \"<CSD>\" if len(generated) == 0 else generated\n",
    "        for generated in tokenizer.batch_decode(\n",
    "            output_sequence, skip_special_tokens=True\n",
    "        )\n",
    "    ]\n",
    "    return {\"generated\": generated}\n"
   ]
  },
  {
   "cell_type": "code",
   "execution_count": 4,
   "metadata": {},
   "outputs": [
    {
     "data": {
      "application/vnd.jupyter.widget-view+json": {
       "model_id": "fddc5c1d29634002ad6b1518750faf4c",
       "version_major": 2,
       "version_minor": 0
      },
      "text/plain": [
       "Downloading:   0%|          | 0.00/1.35k [00:00<?, ?B/s]"
      ]
     },
     "metadata": {},
     "output_type": "display_data"
    },
    {
     "data": {
      "application/vnd.jupyter.widget-view+json": {
       "model_id": "fe6211f2a7324958aec1d2b8db74b79f",
       "version_major": 2,
       "version_minor": 0
      },
      "text/plain": [
       "Downloading:   0%|          | 0.00/850M [00:00<?, ?B/s]"
      ]
     },
     "metadata": {},
     "output_type": "display_data"
    },
    {
     "name": "stderr",
     "output_type": "stream",
     "text": [
      "/home/chris-zeng/csci544-project/apex-env/lib/python3.10/site-packages/torch/nn/modules/module.py:1402: UserWarning: positional arguments and argument \"destination\" are deprecated. nn.Module.state_dict will not accept them in the future. Refer to https://pytorch.org/docs/master/generated/torch.nn.Module.html#torch.nn.Module.state_dict for details.\n",
      "  warnings.warn(\n"
     ]
    },
    {
     "data": {
      "application/vnd.jupyter.widget-view+json": {
       "model_id": "935b782fff9a486d80d7815915b569a4",
       "version_major": 2,
       "version_minor": 0
      },
      "text/plain": [
       "Downloading:   0%|          | 0.00/1.32M [00:00<?, ?B/s]"
      ]
     },
     "metadata": {},
     "output_type": "display_data"
    },
    {
     "data": {
      "application/vnd.jupyter.widget-view+json": {
       "model_id": "d019af699e9547bd9d2d88629025d96b",
       "version_major": 2,
       "version_minor": 0
      },
      "text/plain": [
       "Downloading:   0%|          | 0.00/16.0 [00:00<?, ?B/s]"
      ]
     },
     "metadata": {},
     "output_type": "display_data"
    },
    {
     "data": {
      "application/vnd.jupyter.widget-view+json": {
       "model_id": "ebe73aeb431843fb9ec7287cbe4fb552",
       "version_major": 2,
       "version_minor": 0
      },
      "text/plain": [
       "  0%|          | 0/136 [00:00<?, ?ba/s]"
      ]
     },
     "metadata": {},
     "output_type": "display_data"
    },
    {
     "data": {
      "application/vnd.jupyter.widget-view+json": {
       "model_id": "4e4adea3b48248b6a40041384dba6cbd",
       "version_major": 2,
       "version_minor": 0
      },
      "text/plain": [
       "  0%|          | 0/49 [00:00<?, ?ba/s]"
      ]
     },
     "metadata": {},
     "output_type": "display_data"
    },
    {
     "data": {
      "application/vnd.jupyter.widget-view+json": {
       "model_id": "3229c194c80149d7a65b8fb739057fae",
       "version_major": 2,
       "version_minor": 0
      },
      "text/plain": [
       "  0%|          | 0/59 [00:00<?, ?ba/s]"
      ]
     },
     "metadata": {},
     "output_type": "display_data"
    },
    {
     "data": {
      "application/vnd.jupyter.widget-view+json": {
       "model_id": "fd46452e1504458e98c7190c0a16f7f3",
       "version_major": 2,
       "version_minor": 0
      },
      "text/plain": [
       "  0%|          | 0/136 [00:00<?, ?ba/s]"
      ]
     },
     "metadata": {},
     "output_type": "display_data"
    },
    {
     "data": {
      "application/vnd.jupyter.widget-view+json": {
       "model_id": "d1e65acc4ff2455587eb35b885fde212",
       "version_major": 2,
       "version_minor": 0
      },
      "text/plain": [
       "  0%|          | 0/49 [00:00<?, ?ba/s]"
      ]
     },
     "metadata": {},
     "output_type": "display_data"
    },
    {
     "data": {
      "application/vnd.jupyter.widget-view+json": {
       "model_id": "ae6fc0f5a350408686fadcafb766e178",
       "version_major": 2,
       "version_minor": 0
      },
      "text/plain": [
       "  0%|          | 0/59 [00:00<?, ?ba/s]"
      ]
     },
     "metadata": {},
     "output_type": "display_data"
    },
    {
     "data": {
      "application/vnd.jupyter.widget-view+json": {
       "model_id": "ac9b982c9039420096c7f0eb177f3868",
       "version_major": 2,
       "version_minor": 0
      },
      "text/plain": [
       "Downloading:   0%|          | 0.00/1.70k [00:00<?, ?B/s]"
      ]
     },
     "metadata": {},
     "output_type": "display_data"
    },
    {
     "data": {
      "application/vnd.jupyter.widget-view+json": {
       "model_id": "bbb538a3da6e41769cfa76e0eedc6d0d",
       "version_major": 2,
       "version_minor": 0
      },
      "text/plain": [
       "Downloading:   0%|          | 0.00/532M [00:00<?, ?B/s]"
      ]
     },
     "metadata": {},
     "output_type": "display_data"
    },
    {
     "data": {
      "application/vnd.jupyter.widget-view+json": {
       "model_id": "7dcf8a94ec354a8f80e8732fc2886f8f",
       "version_major": 2,
       "version_minor": 0
      },
      "text/plain": [
       "Downloading:   0%|          | 0.00/353 [00:00<?, ?B/s]"
      ]
     },
     "metadata": {},
     "output_type": "display_data"
    },
    {
     "data": {
      "application/vnd.jupyter.widget-view+json": {
       "model_id": "3e3690fa049a4ed698c93e95d98bf19e",
       "version_major": 2,
       "version_minor": 0
      },
      "text/plain": [
       "Downloading:   0%|          | 0.00/780k [00:00<?, ?B/s]"
      ]
     },
     "metadata": {},
     "output_type": "display_data"
    },
    {
     "data": {
      "application/vnd.jupyter.widget-view+json": {
       "model_id": "142fa5e8c462425691d022fd1c672b4d",
       "version_major": 2,
       "version_minor": 0
      },
      "text/plain": [
       "Downloading:   0%|          | 0.00/446k [00:00<?, ?B/s]"
      ]
     },
     "metadata": {},
     "output_type": "display_data"
    },
    {
     "data": {
      "application/vnd.jupyter.widget-view+json": {
       "model_id": "10af37ad54744c96abf652f6c3fa578d",
       "version_major": 2,
       "version_minor": 0
      },
      "text/plain": [
       "Downloading:   0%|          | 0.00/1.29M [00:00<?, ?B/s]"
      ]
     },
     "metadata": {},
     "output_type": "display_data"
    },
    {
     "data": {
      "application/vnd.jupyter.widget-view+json": {
       "model_id": "bedf7ccd013547f18b3c62d6665de959",
       "version_major": 2,
       "version_minor": 0
      },
      "text/plain": [
       "Downloading:   0%|          | 0.00/16.0 [00:00<?, ?B/s]"
      ]
     },
     "metadata": {},
     "output_type": "display_data"
    },
    {
     "data": {
      "application/vnd.jupyter.widget-view+json": {
       "model_id": "e9fb51aff91348bc86af8dbe3a9e7284",
       "version_major": 2,
       "version_minor": 0
      },
      "text/plain": [
       "Downloading:   0%|          | 0.00/239 [00:00<?, ?B/s]"
      ]
     },
     "metadata": {},
     "output_type": "display_data"
    },
    {
     "data": {
      "application/vnd.jupyter.widget-view+json": {
       "model_id": "e9838ccc62b5465692f1d677bb7e0da9",
       "version_major": 2,
       "version_minor": 0
      },
      "text/plain": [
       "  0%|          | 0/136 [00:00<?, ?ba/s]"
      ]
     },
     "metadata": {},
     "output_type": "display_data"
    },
    {
     "data": {
      "application/vnd.jupyter.widget-view+json": {
       "model_id": "e27c9bd346fb4cd7bd19f0afc692fcc8",
       "version_major": 2,
       "version_minor": 0
      },
      "text/plain": [
       "  0%|          | 0/49 [00:00<?, ?ba/s]"
      ]
     },
     "metadata": {},
     "output_type": "display_data"
    },
    {
     "data": {
      "application/vnd.jupyter.widget-view+json": {
       "model_id": "9724125febf14e4d8f04b518c8d6c60e",
       "version_major": 2,
       "version_minor": 0
      },
      "text/plain": [
       "  0%|          | 0/59 [00:00<?, ?ba/s]"
      ]
     },
     "metadata": {},
     "output_type": "display_data"
    },
    {
     "data": {
      "text/plain": [
       "DatasetDict({\n",
       "    train: Dataset({\n",
       "        features: ['original', 'censored', 'generated_ChrisZeng/t5-base-detox', 'generated_ChrisZeng/t5-v1_1-base-detox', 'generated_ChrisZeng/bart-base-detox'],\n",
       "        num_rows: 8679\n",
       "    })\n",
       "    eval: Dataset({\n",
       "        features: ['original', 'censored', 'generated_ChrisZeng/t5-base-detox', 'generated_ChrisZeng/t5-v1_1-base-detox', 'generated_ChrisZeng/bart-base-detox'],\n",
       "        num_rows: 3100\n",
       "    })\n",
       "    test: Dataset({\n",
       "        features: ['original', 'censored', 'generated_ChrisZeng/t5-base-detox', 'generated_ChrisZeng/t5-v1_1-base-detox', 'generated_ChrisZeng/bart-base-detox'],\n",
       "        num_rows: 3720\n",
       "    })\n",
       "})"
      ]
     },
     "execution_count": 4,
     "metadata": {},
     "output_type": "execute_result"
    }
   ],
   "source": [
    "from transformers import AutoModelForSeq2SeqLM, AutoTokenizer\n",
    "import pandas as pd\n",
    "from datasets import Dataset\n",
    "\n",
    "for model_name in [\"t5-base\", \"t5-v1_1-base\", \"bart-base\"]:\n",
    "    model_name = f\"ChrisZeng/{model_name}-detox\"\n",
    "\n",
    "    model = AutoModelForSeq2SeqLM.from_pretrained(model_name)\n",
    "    tokenizer = AutoTokenizer.from_pretrained(model_name)\n",
    "\n",
    "    model_buffered = model.to(\"cuda\")\n",
    "    tokenizer.padding_side = \"left\"\n",
    "    tokenizer.pad_token = tokenizer.eos_token\n",
    "\n",
    "    dataset_dict = dataset_dict.map(\n",
    "        lambda rec: detox(tokenizer, model_buffered, rec[\"original\"]),\n",
    "        keep_in_memory=True,\n",
    "        batched=True,\n",
    "        batch_size=64,\n",
    "    ).rename_columns({\"generated\": f\"generated_{model_name}\"})\n",
    "\n",
    "    del model_buffered"
   ]
  },
  {
   "cell_type": "code",
   "execution_count": 5,
   "metadata": {},
   "outputs": [],
   "source": [
    "import re\n",
    "\n",
    "\n",
    "class SentenceDetoxer(object):\n",
    "    def __init__(self, toxic_words):\n",
    "        self.replacements = {toxic_word: \"<CSD>\" for toxic_word in toxic_words}\n",
    "        self.pattern = \"|\".join(r\"\\b%s\\b\" % re.escape(s) for s in self.replacements)\n",
    "\n",
    "    def __call__(self, sentence):\n",
    "        return re.sub(\n",
    "            self.pattern, lambda match: self.replacements[match.group(0)], sentence\n",
    "        )\n"
   ]
  },
  {
   "cell_type": "code",
   "execution_count": 6,
   "metadata": {},
   "outputs": [
    {
     "data": {
      "application/vnd.jupyter.widget-view+json": {
       "model_id": "b00fd495dd5b459c9d98241b9560f382",
       "version_major": 2,
       "version_minor": 0
      },
      "text/plain": [
       "  0%|          | 0/8679 [00:00<?, ?ex/s]"
      ]
     },
     "metadata": {},
     "output_type": "display_data"
    },
    {
     "data": {
      "application/vnd.jupyter.widget-view+json": {
       "model_id": "7a3c6d34245543d987587d26c4580187",
       "version_major": 2,
       "version_minor": 0
      },
      "text/plain": [
       "  0%|          | 0/3100 [00:00<?, ?ex/s]"
      ]
     },
     "metadata": {},
     "output_type": "display_data"
    },
    {
     "data": {
      "application/vnd.jupyter.widget-view+json": {
       "model_id": "f7b722e7509d47c2ba99725404486440",
       "version_major": 2,
       "version_minor": 0
      },
      "text/plain": [
       "  0%|          | 0/3720 [00:00<?, ?ex/s]"
      ]
     },
     "metadata": {},
     "output_type": "display_data"
    }
   ],
   "source": [
    "import pandas as pd\n",
    "\n",
    "hatebase = pd.read_csv(\"outputs/hatebase.csv\")\n",
    "hate_words = hatebase[hatebase[\"language\"] == \"English\"][\"word\"]\n",
    "hate_words = hate_words.str.split(\"(\").str[0].str.strip()\n",
    "toxic_words = pd.concat(\n",
    "    [hate_words, pd.read_csv(\"outputs/bad-words.csv\")[\"word\"],]\n",
    ").drop_duplicates()\n",
    "\n",
    "detoxer = SentenceDetoxer(toxic_words)\n",
    "\n",
    "dataset_dict = dataset_dict.map(\n",
    "    lambda record: {\"naive-detox\": detoxer(record[\"original\"])}\n",
    ")\n"
   ]
  },
  {
   "cell_type": "code",
   "execution_count": 8,
   "metadata": {},
   "outputs": [
    {
     "data": {
      "text/plain": [
       "DatasetDict({\n",
       "    train: Dataset({\n",
       "        features: ['original', 'censored', 'generated_ChrisZeng/t5-base-detox', 'generated_ChrisZeng/t5-v1_1-base-detox', 'generated_ChrisZeng/bart-base-detox', 'naive-detox'],\n",
       "        num_rows: 8679\n",
       "    })\n",
       "    eval: Dataset({\n",
       "        features: ['original', 'censored', 'generated_ChrisZeng/t5-base-detox', 'generated_ChrisZeng/t5-v1_1-base-detox', 'generated_ChrisZeng/bart-base-detox', 'naive-detox'],\n",
       "        num_rows: 3100\n",
       "    })\n",
       "    test: Dataset({\n",
       "        features: ['original', 'censored', 'generated_ChrisZeng/t5-base-detox', 'generated_ChrisZeng/t5-v1_1-base-detox', 'generated_ChrisZeng/bart-base-detox', 'naive-detox'],\n",
       "        num_rows: 3720\n",
       "    })\n",
       "})"
      ]
     },
     "execution_count": 8,
     "metadata": {},
     "output_type": "execute_result"
    }
   ],
   "source": [
    "dataset_dict"
   ]
  },
  {
   "cell_type": "code",
   "execution_count": null,
   "metadata": {},
   "outputs": [],
   "source": [
    "for split, dataset in dataset_dict.items():\n",
    "    dataset.to_pandas().to_csv(f\"outputs/generated_outputs_{split}.csv\", index=False)\n"
   ]
  },
  {
   "cell_type": "code",
   "execution_count": 1,
   "metadata": {},
   "outputs": [],
   "source": [
    "import pandas as pd\n",
    "from datasets import Dataset, DatasetDict\n",
    "\n",
    "dataset_dict = DatasetDict(\n",
    "    {\n",
    "        split: Dataset.from_pandas(\n",
    "            pd.read_csv(f\"outputs/generated_outputs_{split}.csv\")\n",
    "        )\n",
    "        for split in [\"train\", \"eval\", \"test\"]\n",
    "    }\n",
    ")\n",
    "\n"
   ]
  },
  {
   "cell_type": "code",
   "execution_count": 4,
   "metadata": {},
   "outputs": [
    {
     "name": "stderr",
     "output_type": "stream",
     "text": [
      "/home/chris-zeng/csci544-project/apex-env/lib/python3.10/site-packages/torch/nn/modules/module.py:1402: UserWarning: positional arguments and argument \"destination\" are deprecated. nn.Module.state_dict will not accept them in the future. Refer to https://pytorch.org/docs/master/generated/torch.nn.Module.html#torch.nn.Module.state_dict for details.\n",
      "  warnings.warn(\n"
     ]
    }
   ],
   "source": [
    "from transformers import pipeline\n",
    "import pandas as pd\n",
    "import numpy as np\n",
    "\n",
    "\n",
    "class ToxicScore(object):\n",
    "    def __init__(self, score_pipeline):\n",
    "        self.score_pipeline = score_pipeline\n",
    "\n",
    "    def __call__(self, inputs):\n",
    "        return np.mean([result[0][\"score\"] for result in detoxify_pipeline(inputs)])\n",
    "\n",
    "\n",
    "detoxify_pipeline = pipeline(\n",
    "    \"text-classification\",\n",
    "    model=\"unitary/toxic-bert\",\n",
    "    tokenizer=\"bert-base-uncased\",\n",
    "    function_to_apply=\"sigmoid\",\n",
    "    return_all_scores=True,\n",
    "    device=0,\n",
    "    batch_size=8,\n",
    ")\n",
    "\n",
    "toxicscore = ToxicScore(detoxify_pipeline)\n",
    "\n",
    "from datasets import load_metric\n",
    "bertscore = load_metric(\"bertscore\")\n",
    "\n"
   ]
  },
  {
   "cell_type": "code",
   "execution_count": 6,
   "metadata": {},
   "outputs": [
    {
     "name": "stderr",
     "output_type": "stream",
     "text": [
      "/home/chris-zeng/csci544-project/apex-env/lib/python3.10/site-packages/torch/nn/modules/module.py:1402: UserWarning: positional arguments and argument \"destination\" are deprecated. nn.Module.state_dict will not accept them in the future. Refer to https://pytorch.org/docs/master/generated/torch.nn.Module.html#torch.nn.Module.state_dict for details.\n",
      "  warnings.warn(\n",
      "/home/chris-zeng/csci544-project/apex-env/lib/python3.10/site-packages/transformers/pipelines/base.py:996: UserWarning: You seem to be using the pipelines sequentially on GPU. In order to maximize efficiency please use a dataset\n",
      "  warnings.warn(\n",
      "/home/chris-zeng/csci544-project/apex-env/lib/python3.10/site-packages/transformers/pipelines/base.py:996: UserWarning: You seem to be using the pipelines sequentially on GPU. In order to maximize efficiency please use a dataset\n",
      "  warnings.warn(\n",
      "/home/chris-zeng/csci544-project/apex-env/lib/python3.10/site-packages/transformers/pipelines/base.py:996: UserWarning: You seem to be using the pipelines sequentially on GPU. In order to maximize efficiency please use a dataset\n",
      "  warnings.warn(\n",
      "/home/chris-zeng/csci544-project/apex-env/lib/python3.10/site-packages/transformers/pipelines/base.py:996: UserWarning: You seem to be using the pipelines sequentially on GPU. In order to maximize efficiency please use a dataset\n",
      "  warnings.warn(\n",
      "/home/chris-zeng/csci544-project/apex-env/lib/python3.10/site-packages/transformers/pipelines/base.py:996: UserWarning: You seem to be using the pipelines sequentially on GPU. In order to maximize efficiency please use a dataset\n",
      "  warnings.warn(\n",
      "/home/chris-zeng/csci544-project/apex-env/lib/python3.10/site-packages/transformers/pipelines/base.py:996: UserWarning: You seem to be using the pipelines sequentially on GPU. In order to maximize efficiency please use a dataset\n",
      "  warnings.warn(\n",
      "/home/chris-zeng/csci544-project/apex-env/lib/python3.10/site-packages/transformers/pipelines/base.py:996: UserWarning: You seem to be using the pipelines sequentially on GPU. In order to maximize efficiency please use a dataset\n",
      "  warnings.warn(\n",
      "/home/chris-zeng/csci544-project/apex-env/lib/python3.10/site-packages/transformers/pipelines/base.py:996: UserWarning: You seem to be using the pipelines sequentially on GPU. In order to maximize efficiency please use a dataset\n",
      "  warnings.warn(\n",
      "/home/chris-zeng/csci544-project/apex-env/lib/python3.10/site-packages/transformers/pipelines/base.py:996: UserWarning: You seem to be using the pipelines sequentially on GPU. In order to maximize efficiency please use a dataset\n",
      "  warnings.warn(\n",
      "/home/chris-zeng/csci544-project/apex-env/lib/python3.10/site-packages/transformers/pipelines/base.py:996: UserWarning: You seem to be using the pipelines sequentially on GPU. In order to maximize efficiency please use a dataset\n",
      "  warnings.warn(\n",
      "/home/chris-zeng/csci544-project/apex-env/lib/python3.10/site-packages/transformers/pipelines/base.py:996: UserWarning: You seem to be using the pipelines sequentially on GPU. In order to maximize efficiency please use a dataset\n",
      "  warnings.warn(\n",
      "/home/chris-zeng/csci544-project/apex-env/lib/python3.10/site-packages/transformers/pipelines/base.py:996: UserWarning: You seem to be using the pipelines sequentially on GPU. In order to maximize efficiency please use a dataset\n",
      "  warnings.warn(\n",
      "/home/chris-zeng/csci544-project/apex-env/lib/python3.10/site-packages/transformers/pipelines/base.py:996: UserWarning: You seem to be using the pipelines sequentially on GPU. In order to maximize efficiency please use a dataset\n",
      "  warnings.warn(\n",
      "/home/chris-zeng/csci544-project/apex-env/lib/python3.10/site-packages/transformers/pipelines/base.py:996: UserWarning: You seem to be using the pipelines sequentially on GPU. In order to maximize efficiency please use a dataset\n",
      "  warnings.warn(\n",
      "/home/chris-zeng/csci544-project/apex-env/lib/python3.10/site-packages/transformers/pipelines/base.py:996: UserWarning: You seem to be using the pipelines sequentially on GPU. In order to maximize efficiency please use a dataset\n",
      "  warnings.warn(\n",
      "/home/chris-zeng/csci544-project/apex-env/lib/python3.10/site-packages/transformers/pipelines/base.py:996: UserWarning: You seem to be using the pipelines sequentially on GPU. In order to maximize efficiency please use a dataset\n",
      "  warnings.warn(\n",
      "/home/chris-zeng/csci544-project/apex-env/lib/python3.10/site-packages/transformers/pipelines/base.py:996: UserWarning: You seem to be using the pipelines sequentially on GPU. In order to maximize efficiency please use a dataset\n",
      "  warnings.warn(\n",
      "/home/chris-zeng/csci544-project/apex-env/lib/python3.10/site-packages/transformers/pipelines/base.py:996: UserWarning: You seem to be using the pipelines sequentially on GPU. In order to maximize efficiency please use a dataset\n",
      "  warnings.warn(\n"
     ]
    },
    {
     "data": {
      "text/html": [
       "<div>\n",
       "<style scoped>\n",
       "    .dataframe tbody tr th:only-of-type {\n",
       "        vertical-align: middle;\n",
       "    }\n",
       "\n",
       "    .dataframe tbody tr th {\n",
       "        vertical-align: top;\n",
       "    }\n",
       "\n",
       "    .dataframe thead th {\n",
       "        text-align: right;\n",
       "    }\n",
       "</style>\n",
       "<table border=\"1\" class=\"dataframe\">\n",
       "  <thead>\n",
       "    <tr style=\"text-align: right;\">\n",
       "      <th></th>\n",
       "      <th></th>\n",
       "      <th>similarity</th>\n",
       "      <th>toxicity</th>\n",
       "    </tr>\n",
       "    <tr>\n",
       "      <th>split</th>\n",
       "      <th>column</th>\n",
       "      <th></th>\n",
       "      <th></th>\n",
       "    </tr>\n",
       "  </thead>\n",
       "  <tbody>\n",
       "    <tr>\n",
       "      <th rowspan=\"6\" valign=\"top\">train</th>\n",
       "      <th>original</th>\n",
       "      <td>1.000005</td>\n",
       "      <td>0.634264</td>\n",
       "    </tr>\n",
       "    <tr>\n",
       "      <th>censored</th>\n",
       "      <td>0.938401</td>\n",
       "      <td>0.119891</td>\n",
       "    </tr>\n",
       "    <tr>\n",
       "      <th>generated_ChrisZeng/t5-base-detox</th>\n",
       "      <td>0.904883</td>\n",
       "      <td>0.117076</td>\n",
       "    </tr>\n",
       "    <tr>\n",
       "      <th>generated_ChrisZeng/t5-v1_1-base-detox</th>\n",
       "      <td>0.909103</td>\n",
       "      <td>0.143238</td>\n",
       "    </tr>\n",
       "    <tr>\n",
       "      <th>generated_ChrisZeng/bart-base-detox</th>\n",
       "      <td>0.850837</td>\n",
       "      <td>0.077703</td>\n",
       "    </tr>\n",
       "    <tr>\n",
       "      <th>naive-detox</th>\n",
       "      <td>0.978006</td>\n",
       "      <td>0.396886</td>\n",
       "    </tr>\n",
       "    <tr>\n",
       "      <th rowspan=\"6\" valign=\"top\">eval</th>\n",
       "      <th>original</th>\n",
       "      <td>1.000005</td>\n",
       "      <td>0.638489</td>\n",
       "    </tr>\n",
       "    <tr>\n",
       "      <th>censored</th>\n",
       "      <td>0.939462</td>\n",
       "      <td>0.120043</td>\n",
       "    </tr>\n",
       "    <tr>\n",
       "      <th>generated_ChrisZeng/t5-base-detox</th>\n",
       "      <td>0.906586</td>\n",
       "      <td>0.120961</td>\n",
       "    </tr>\n",
       "    <tr>\n",
       "      <th>generated_ChrisZeng/t5-v1_1-base-detox</th>\n",
       "      <td>0.910119</td>\n",
       "      <td>0.143255</td>\n",
       "    </tr>\n",
       "    <tr>\n",
       "      <th>generated_ChrisZeng/bart-base-detox</th>\n",
       "      <td>0.852197</td>\n",
       "      <td>0.081079</td>\n",
       "    </tr>\n",
       "    <tr>\n",
       "      <th>naive-detox</th>\n",
       "      <td>0.978564</td>\n",
       "      <td>0.391680</td>\n",
       "    </tr>\n",
       "    <tr>\n",
       "      <th rowspan=\"6\" valign=\"top\">test</th>\n",
       "      <th>original</th>\n",
       "      <td>1.000005</td>\n",
       "      <td>0.629271</td>\n",
       "    </tr>\n",
       "    <tr>\n",
       "      <th>censored</th>\n",
       "      <td>0.939285</td>\n",
       "      <td>0.111152</td>\n",
       "    </tr>\n",
       "    <tr>\n",
       "      <th>generated_ChrisZeng/t5-base-detox</th>\n",
       "      <td>0.906484</td>\n",
       "      <td>0.112214</td>\n",
       "    </tr>\n",
       "    <tr>\n",
       "      <th>generated_ChrisZeng/t5-v1_1-base-detox</th>\n",
       "      <td>0.909312</td>\n",
       "      <td>0.133200</td>\n",
       "    </tr>\n",
       "    <tr>\n",
       "      <th>generated_ChrisZeng/bart-base-detox</th>\n",
       "      <td>0.855023</td>\n",
       "      <td>0.081856</td>\n",
       "    </tr>\n",
       "    <tr>\n",
       "      <th>naive-detox</th>\n",
       "      <td>0.978402</td>\n",
       "      <td>0.386676</td>\n",
       "    </tr>\n",
       "  </tbody>\n",
       "</table>\n",
       "</div>"
      ],
      "text/plain": [
       "                                              similarity  toxicity\n",
       "split column                                                      \n",
       "train original                                  1.000005  0.634264\n",
       "      censored                                  0.938401  0.119891\n",
       "      generated_ChrisZeng/t5-base-detox         0.904883  0.117076\n",
       "      generated_ChrisZeng/t5-v1_1-base-detox    0.909103  0.143238\n",
       "      generated_ChrisZeng/bart-base-detox       0.850837  0.077703\n",
       "      naive-detox                               0.978006  0.396886\n",
       "eval  original                                  1.000005  0.638489\n",
       "      censored                                  0.939462  0.120043\n",
       "      generated_ChrisZeng/t5-base-detox         0.906586  0.120961\n",
       "      generated_ChrisZeng/t5-v1_1-base-detox    0.910119  0.143255\n",
       "      generated_ChrisZeng/bart-base-detox       0.852197  0.081079\n",
       "      naive-detox                               0.978564  0.391680\n",
       "test  original                                  1.000005  0.629271\n",
       "      censored                                  0.939285  0.111152\n",
       "      generated_ChrisZeng/t5-base-detox         0.906484  0.112214\n",
       "      generated_ChrisZeng/t5-v1_1-base-detox    0.909312  0.133200\n",
       "      generated_ChrisZeng/bart-base-detox       0.855023  0.081856\n",
       "      naive-detox                               0.978402  0.386676"
      ]
     },
     "execution_count": 6,
     "metadata": {},
     "output_type": "execute_result"
    }
   ],
   "source": [
    "from datasets import load_metric\n",
    "import numpy as np\n",
    "import pandas as pd\n",
    "from IPython.display import display, Pretty\n",
    "\n",
    "rouge = load_metric(\"rouge\")\n",
    "exact_match = load_metric(\"exact_match\")\n",
    "bertscore = load_metric(\"bertscore\")\n",
    "\n",
    "\n",
    "def compute_metrics(original, generated):\n",
    "    return {\n",
    "        \"similarity\": np.mean(\n",
    "            bertscore.compute(predictions=generated, references=original, lang=\"en\")[\n",
    "                \"f1\"\n",
    "            ]\n",
    "        ),\n",
    "        \"toxicity\": np.mean(toxicscore(generated)),\n",
    "    }\n",
    "\n",
    "\n",
    "metrics = pd.concat(\n",
    "    {\n",
    "        split: pd.concat(\n",
    "            pd.DataFrame(\n",
    "                compute_metrics(\n",
    "                    dataset_dict[split][\"original\"], dataset_dict[split][col]\n",
    "                ),\n",
    "                index=[col],\n",
    "            )\n",
    "            for col in dataset_dict[split].column_names\n",
    "        )\n",
    "        for split in dataset_dict.keys()\n",
    "    },\n",
    "    names=[\"split\", \"column\"],\n",
    ")\n",
    "\n",
    "metrics\n"
   ]
  },
  {
   "cell_type": "code",
   "execution_count": 2,
   "metadata": {},
   "outputs": [
    {
     "name": "stderr",
     "output_type": "stream",
     "text": [
      "Intel(R) Extension for Scikit-learn* enabled (https://github.com/intel/scikit-learn-intelex)\n",
      "/home/chris-zeng/csci544-project/apex-env/lib/python3.10/site-packages/torch/nn/modules/module.py:1402: UserWarning: positional arguments and argument \"destination\" are deprecated. nn.Module.state_dict will not accept them in the future. Refer to https://pytorch.org/docs/master/generated/torch.nn.Module.html#torch.nn.Module.state_dict for details.\n",
      "  warnings.warn(\n"
     ]
    },
    {
     "data": {
      "text/html": [
       "<div>\n",
       "<style scoped>\n",
       "    .dataframe tbody tr th:only-of-type {\n",
       "        vertical-align: middle;\n",
       "    }\n",
       "\n",
       "    .dataframe tbody tr th {\n",
       "        vertical-align: top;\n",
       "    }\n",
       "\n",
       "    .dataframe thead th {\n",
       "        text-align: right;\n",
       "    }\n",
       "</style>\n",
       "<table border=\"1\" class=\"dataframe\">\n",
       "  <thead>\n",
       "    <tr style=\"text-align: right;\">\n",
       "      <th></th>\n",
       "      <th></th>\n",
       "      <th>rouge1</th>\n",
       "      <th>rouge2</th>\n",
       "      <th>rougeL</th>\n",
       "      <th>rougeLsum</th>\n",
       "      <th>exact_match_rate</th>\n",
       "      <th>mean_bertscore_f1</th>\n",
       "    </tr>\n",
       "    <tr>\n",
       "      <th>split</th>\n",
       "      <th>column</th>\n",
       "      <th></th>\n",
       "      <th></th>\n",
       "      <th></th>\n",
       "      <th></th>\n",
       "      <th></th>\n",
       "      <th></th>\n",
       "    </tr>\n",
       "  </thead>\n",
       "  <tbody>\n",
       "    <tr>\n",
       "      <th rowspan=\"4\" valign=\"top\">train</th>\n",
       "      <th>generated_ChrisZeng/t5-base-detox</th>\n",
       "      <td>0.600045</td>\n",
       "      <td>0.527522</td>\n",
       "      <td>0.596211</td>\n",
       "      <td>0.596894</td>\n",
       "      <td>0.028920</td>\n",
       "      <td>0.915087</td>\n",
       "    </tr>\n",
       "    <tr>\n",
       "      <th>generated_ChrisZeng/t5-v1_1-base-detox</th>\n",
       "      <td>0.573912</td>\n",
       "      <td>0.498893</td>\n",
       "      <td>0.569687</td>\n",
       "      <td>0.570358</td>\n",
       "      <td>0.091600</td>\n",
       "      <td>0.912732</td>\n",
       "    </tr>\n",
       "    <tr>\n",
       "      <th>generated_ChrisZeng/bart-base-detox</th>\n",
       "      <td>0.327116</td>\n",
       "      <td>0.160506</td>\n",
       "      <td>0.323587</td>\n",
       "      <td>0.324265</td>\n",
       "      <td>0.051734</td>\n",
       "      <td>0.882213</td>\n",
       "    </tr>\n",
       "    <tr>\n",
       "      <th>naive-detox</th>\n",
       "      <td>0.813183</td>\n",
       "      <td>0.742482</td>\n",
       "      <td>0.808027</td>\n",
       "      <td>0.809031</td>\n",
       "      <td>0.103583</td>\n",
       "      <td>0.948864</td>\n",
       "    </tr>\n",
       "    <tr>\n",
       "      <th rowspan=\"4\" valign=\"top\">eval</th>\n",
       "      <th>generated_ChrisZeng/t5-base-detox</th>\n",
       "      <td>0.603885</td>\n",
       "      <td>0.523222</td>\n",
       "      <td>0.599584</td>\n",
       "      <td>0.599861</td>\n",
       "      <td>0.020323</td>\n",
       "      <td>0.914306</td>\n",
       "    </tr>\n",
       "    <tr>\n",
       "      <th>generated_ChrisZeng/t5-v1_1-base-detox</th>\n",
       "      <td>0.584622</td>\n",
       "      <td>0.506323</td>\n",
       "      <td>0.580477</td>\n",
       "      <td>0.580760</td>\n",
       "      <td>0.080323</td>\n",
       "      <td>0.913912</td>\n",
       "    </tr>\n",
       "    <tr>\n",
       "      <th>generated_ChrisZeng/bart-base-detox</th>\n",
       "      <td>0.332237</td>\n",
       "      <td>0.166057</td>\n",
       "      <td>0.329100</td>\n",
       "      <td>0.329713</td>\n",
       "      <td>0.043871</td>\n",
       "      <td>0.882438</td>\n",
       "    </tr>\n",
       "    <tr>\n",
       "      <th>naive-detox</th>\n",
       "      <td>0.818039</td>\n",
       "      <td>0.747882</td>\n",
       "      <td>0.812162</td>\n",
       "      <td>0.813399</td>\n",
       "      <td>0.109355</td>\n",
       "      <td>0.950080</td>\n",
       "    </tr>\n",
       "    <tr>\n",
       "      <th rowspan=\"4\" valign=\"top\">test</th>\n",
       "      <th>generated_ChrisZeng/t5-base-detox</th>\n",
       "      <td>0.593605</td>\n",
       "      <td>0.514198</td>\n",
       "      <td>0.588873</td>\n",
       "      <td>0.589002</td>\n",
       "      <td>0.016129</td>\n",
       "      <td>0.913071</td>\n",
       "    </tr>\n",
       "    <tr>\n",
       "      <th>generated_ChrisZeng/t5-v1_1-base-detox</th>\n",
       "      <td>0.574319</td>\n",
       "      <td>0.496103</td>\n",
       "      <td>0.570078</td>\n",
       "      <td>0.570247</td>\n",
       "      <td>0.079839</td>\n",
       "      <td>0.912747</td>\n",
       "    </tr>\n",
       "    <tr>\n",
       "      <th>generated_ChrisZeng/bart-base-detox</th>\n",
       "      <td>0.339565</td>\n",
       "      <td>0.176524</td>\n",
       "      <td>0.335743</td>\n",
       "      <td>0.336342</td>\n",
       "      <td>0.042473</td>\n",
       "      <td>0.883253</td>\n",
       "    </tr>\n",
       "    <tr>\n",
       "      <th>naive-detox</th>\n",
       "      <td>0.814202</td>\n",
       "      <td>0.745184</td>\n",
       "      <td>0.809009</td>\n",
       "      <td>0.809494</td>\n",
       "      <td>0.112903</td>\n",
       "      <td>0.949808</td>\n",
       "    </tr>\n",
       "  </tbody>\n",
       "</table>\n",
       "</div>"
      ],
      "text/plain": [
       "                                                rouge1    rouge2    rougeL  \\\n",
       "split column                                                                 \n",
       "train generated_ChrisZeng/t5-base-detox       0.600045  0.527522  0.596211   \n",
       "      generated_ChrisZeng/t5-v1_1-base-detox  0.573912  0.498893  0.569687   \n",
       "      generated_ChrisZeng/bart-base-detox     0.327116  0.160506  0.323587   \n",
       "      naive-detox                             0.813183  0.742482  0.808027   \n",
       "eval  generated_ChrisZeng/t5-base-detox       0.603885  0.523222  0.599584   \n",
       "      generated_ChrisZeng/t5-v1_1-base-detox  0.584622  0.506323  0.580477   \n",
       "      generated_ChrisZeng/bart-base-detox     0.332237  0.166057  0.329100   \n",
       "      naive-detox                             0.818039  0.747882  0.812162   \n",
       "test  generated_ChrisZeng/t5-base-detox       0.593605  0.514198  0.588873   \n",
       "      generated_ChrisZeng/t5-v1_1-base-detox  0.574319  0.496103  0.570078   \n",
       "      generated_ChrisZeng/bart-base-detox     0.339565  0.176524  0.335743   \n",
       "      naive-detox                             0.814202  0.745184  0.809009   \n",
       "\n",
       "                                              rougeLsum  exact_match_rate  \\\n",
       "split column                                                                \n",
       "train generated_ChrisZeng/t5-base-detox        0.596894          0.028920   \n",
       "      generated_ChrisZeng/t5-v1_1-base-detox   0.570358          0.091600   \n",
       "      generated_ChrisZeng/bart-base-detox      0.324265          0.051734   \n",
       "      naive-detox                              0.809031          0.103583   \n",
       "eval  generated_ChrisZeng/t5-base-detox        0.599861          0.020323   \n",
       "      generated_ChrisZeng/t5-v1_1-base-detox   0.580760          0.080323   \n",
       "      generated_ChrisZeng/bart-base-detox      0.329713          0.043871   \n",
       "      naive-detox                              0.813399          0.109355   \n",
       "test  generated_ChrisZeng/t5-base-detox        0.589002          0.016129   \n",
       "      generated_ChrisZeng/t5-v1_1-base-detox   0.570247          0.079839   \n",
       "      generated_ChrisZeng/bart-base-detox      0.336342          0.042473   \n",
       "      naive-detox                              0.809494          0.112903   \n",
       "\n",
       "                                              mean_bertscore_f1  \n",
       "split column                                                     \n",
       "train generated_ChrisZeng/t5-base-detox                0.915087  \n",
       "      generated_ChrisZeng/t5-v1_1-base-detox           0.912732  \n",
       "      generated_ChrisZeng/bart-base-detox              0.882213  \n",
       "      naive-detox                                      0.948864  \n",
       "eval  generated_ChrisZeng/t5-base-detox                0.914306  \n",
       "      generated_ChrisZeng/t5-v1_1-base-detox           0.913912  \n",
       "      generated_ChrisZeng/bart-base-detox              0.882438  \n",
       "      naive-detox                                      0.950080  \n",
       "test  generated_ChrisZeng/t5-base-detox                0.913071  \n",
       "      generated_ChrisZeng/t5-v1_1-base-detox           0.912747  \n",
       "      generated_ChrisZeng/bart-base-detox              0.883253  \n",
       "      naive-detox                                      0.949808  "
      ]
     },
     "execution_count": 2,
     "metadata": {},
     "output_type": "execute_result"
    }
   ],
   "source": [
    "from datasets import load_metric\n",
    "import numpy as np\n",
    "import pandas as pd\n",
    "from IPython.display import display, Pretty\n",
    "\n",
    "rouge = load_metric(\"rouge\")\n",
    "exact_match = load_metric(\"exact_match\")\n",
    "bertscore = load_metric(\"bertscore\")\n",
    "\n",
    "\n",
    "def compute_metrics(predictions, targets):\n",
    "    return {\n",
    "        **{\n",
    "            key: value.mid.fmeasure\n",
    "            for key, value in rouge.compute(\n",
    "                predictions=predictions, references=targets\n",
    "            ).items()\n",
    "        },\n",
    "        \"exact_match_rate\": 0.01\n",
    "        * exact_match.compute(predictions=predictions, references=targets)[\n",
    "            \"exact_match\"\n",
    "        ],\n",
    "        \"mean_bertscore_f1\": np.mean(\n",
    "            bertscore.compute(predictions=predictions, references=targets, lang=\"en\")[\n",
    "                \"f1\"\n",
    "            ]\n",
    "        ),\n",
    "    }\n",
    "\n",
    "\n",
    "metrics = pd.concat(\n",
    "    {\n",
    "        split: pd.concat(\n",
    "            pd.DataFrame(\n",
    "                compute_metrics(\n",
    "                    dataset_dict[split][col], dataset_dict[split][\"censored\"]\n",
    "                ),\n",
    "                index=[col],\n",
    "            )\n",
    "            for col in [\n",
    "                \"generated_ChrisZeng/t5-base-detox\",\n",
    "                \"generated_ChrisZeng/t5-v1_1-base-detox\",\n",
    "                \"generated_ChrisZeng/bart-base-detox\",\n",
    "                \"naive-detox\",\n",
    "            ]\n",
    "        )\n",
    "        for split in dataset_dict.keys()\n",
    "    },\n",
    "    names=[\"split\", \"column\"],\n",
    ")\n",
    "\n",
    "metrics\n"
   ]
  }
 ],
 "metadata": {
  "interpreter": {
   "hash": "9bfe89fc0ce62c77ec618165bdab88a97265df2cf55337d24860c2391601a2f4"
  },
  "kernelspec": {
   "display_name": "Python 3.10.4 (conda)",
   "language": "python",
   "name": "python3"
  },
  "language_info": {
   "codemirror_mode": {
    "name": "ipython",
    "version": 3
   },
   "file_extension": ".py",
   "mimetype": "text/x-python",
   "name": "python",
   "nbconvert_exporter": "python",
   "pygments_lexer": "ipython3",
   "version": "3.10.4"
  },
  "orig_nbformat": 4
 },
 "nbformat": 4,
 "nbformat_minor": 2
}
