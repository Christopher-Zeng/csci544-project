{
 "cells": [
  {
   "cell_type": "code",
   "execution_count": 2,
   "metadata": {},
   "outputs": [],
   "source": [
    "import pandas as pd\n",
    "from datasets import Dataset, DatasetDict\n",
    "\n",
    "data_path = \"./data/toxic_spans\"\n",
    "filename = \"toxic_span_text_pairs.csv\"\n",
    "splits = [\"train\", \"eval\", \"test\"]\n",
    "\n",
    "dataset_dict = DatasetDict(\n",
    "    {\n",
    "        split: Dataset.from_pandas(\n",
    "            pd.read_csv(\n",
    "                data_path + \"/\" + filename.replace(\".csv\", \"_\" + split + \".csv\")\n",
    "            )\n",
    "        )\n",
    "        for split in splits\n",
    "    }\n",
    ")"
   ]
  },
  {
   "cell_type": "code",
   "execution_count": 3,
   "metadata": {},
   "outputs": [],
   "source": [
    "import torch\n",
    "\n",
    "\n",
    "def detox(tokenizer, model_buffered, batched_inputs):\n",
    "    input_sequence_buffered = tokenizer(\n",
    "        batched_inputs, padding=\"longest\", pad_to_multiple_of=8, return_tensors=\"pt\"\n",
    "    ).to(\"cuda\")\n",
    "    with torch.no_grad():\n",
    "        output_sequence = model_buffered.generate(\n",
    "            input_ids=input_sequence_buffered[\"input_ids\"],\n",
    "            attention_mask=input_sequence_buffered[\"attention_mask\"],\n",
    "        )\n",
    "    del input_sequence_buffered\n",
    "    generated = [\n",
    "        \"<CSD>\" if len(generated) == 0 else generated\n",
    "        for generated in tokenizer.batch_decode(\n",
    "            output_sequence, skip_special_tokens=True\n",
    "        )\n",
    "    ]\n",
    "    return {\"generated\": generated}\n"
   ]
  },
  {
   "cell_type": "code",
   "execution_count": 4,
   "metadata": {},
   "outputs": [
    {
     "data": {
      "application/vnd.jupyter.widget-view+json": {
       "model_id": "fddc5c1d29634002ad6b1518750faf4c",
       "version_major": 2,
       "version_minor": 0
      },
      "text/plain": [
       "Downloading:   0%|          | 0.00/1.35k [00:00<?, ?B/s]"
      ]
     },
     "metadata": {},
     "output_type": "display_data"
    },
    {
     "data": {
      "application/vnd.jupyter.widget-view+json": {
       "model_id": "fe6211f2a7324958aec1d2b8db74b79f",
       "version_major": 2,
       "version_minor": 0
      },
      "text/plain": [
       "Downloading:   0%|          | 0.00/850M [00:00<?, ?B/s]"
      ]
     },
     "metadata": {},
     "output_type": "display_data"
    },
    {
     "name": "stderr",
     "output_type": "stream",
     "text": [
      "/home/chris-zeng/csci544-project/apex-env/lib/python3.10/site-packages/torch/nn/modules/module.py:1402: UserWarning: positional arguments and argument \"destination\" are deprecated. nn.Module.state_dict will not accept them in the future. Refer to https://pytorch.org/docs/master/generated/torch.nn.Module.html#torch.nn.Module.state_dict for details.\n",
      "  warnings.warn(\n"
     ]
    },
    {
     "data": {
      "application/vnd.jupyter.widget-view+json": {
       "model_id": "935b782fff9a486d80d7815915b569a4",
       "version_major": 2,
       "version_minor": 0
      },
      "text/plain": [
       "Downloading:   0%|          | 0.00/1.32M [00:00<?, ?B/s]"
      ]
     },
     "metadata": {},
     "output_type": "display_data"
    },
    {
     "data": {
      "application/vnd.jupyter.widget-view+json": {
       "model_id": "d019af699e9547bd9d2d88629025d96b",
       "version_major": 2,
       "version_minor": 0
      },
      "text/plain": [
       "Downloading:   0%|          | 0.00/16.0 [00:00<?, ?B/s]"
      ]
     },
     "metadata": {},
     "output_type": "display_data"
    },
    {
     "data": {
      "application/vnd.jupyter.widget-view+json": {
       "model_id": "ebe73aeb431843fb9ec7287cbe4fb552",
       "version_major": 2,
       "version_minor": 0
      },
      "text/plain": [
       "  0%|          | 0/136 [00:00<?, ?ba/s]"
      ]
     },
     "metadata": {},
     "output_type": "display_data"
    },
    {
     "data": {
      "application/vnd.jupyter.widget-view+json": {
       "model_id": "4e4adea3b48248b6a40041384dba6cbd",
       "version_major": 2,
       "version_minor": 0
      },
      "text/plain": [
       "  0%|          | 0/49 [00:00<?, ?ba/s]"
      ]
     },
     "metadata": {},
     "output_type": "display_data"
    },
    {
     "data": {
      "application/vnd.jupyter.widget-view+json": {
       "model_id": "3229c194c80149d7a65b8fb739057fae",
       "version_major": 2,
       "version_minor": 0
      },
      "text/plain": [
       "  0%|          | 0/59 [00:00<?, ?ba/s]"
      ]
     },
     "metadata": {},
     "output_type": "display_data"
    },
    {
     "data": {
      "application/vnd.jupyter.widget-view+json": {
       "model_id": "fd46452e1504458e98c7190c0a16f7f3",
       "version_major": 2,
       "version_minor": 0
      },
      "text/plain": [
       "  0%|          | 0/136 [00:00<?, ?ba/s]"
      ]
     },
     "metadata": {},
     "output_type": "display_data"
    },
    {
     "data": {
      "application/vnd.jupyter.widget-view+json": {
       "model_id": "d1e65acc4ff2455587eb35b885fde212",
       "version_major": 2,
       "version_minor": 0
      },
      "text/plain": [
       "  0%|          | 0/49 [00:00<?, ?ba/s]"
      ]
     },
     "metadata": {},
     "output_type": "display_data"
    },
    {
     "data": {
      "application/vnd.jupyter.widget-view+json": {
       "model_id": "ae6fc0f5a350408686fadcafb766e178",
       "version_major": 2,
       "version_minor": 0
      },
      "text/plain": [
       "  0%|          | 0/59 [00:00<?, ?ba/s]"
      ]
     },
     "metadata": {},
     "output_type": "display_data"
    },
    {
     "data": {
      "application/vnd.jupyter.widget-view+json": {
       "model_id": "ac9b982c9039420096c7f0eb177f3868",
       "version_major": 2,
       "version_minor": 0
      },
      "text/plain": [
       "Downloading:   0%|          | 0.00/1.70k [00:00<?, ?B/s]"
      ]
     },
     "metadata": {},
     "output_type": "display_data"
    },
    {
     "data": {
      "application/vnd.jupyter.widget-view+json": {
       "model_id": "bbb538a3da6e41769cfa76e0eedc6d0d",
       "version_major": 2,
       "version_minor": 0
      },
      "text/plain": [
       "Downloading:   0%|          | 0.00/532M [00:00<?, ?B/s]"
      ]
     },
     "metadata": {},
     "output_type": "display_data"
    },
    {
     "data": {
      "application/vnd.jupyter.widget-view+json": {
       "model_id": "7dcf8a94ec354a8f80e8732fc2886f8f",
       "version_major": 2,
       "version_minor": 0
      },
      "text/plain": [
       "Downloading:   0%|          | 0.00/353 [00:00<?, ?B/s]"
      ]
     },
     "metadata": {},
     "output_type": "display_data"
    },
    {
     "data": {
      "application/vnd.jupyter.widget-view+json": {
       "model_id": "3e3690fa049a4ed698c93e95d98bf19e",
       "version_major": 2,
       "version_minor": 0
      },
      "text/plain": [
       "Downloading:   0%|          | 0.00/780k [00:00<?, ?B/s]"
      ]
     },
     "metadata": {},
     "output_type": "display_data"
    },
    {
     "data": {
      "application/vnd.jupyter.widget-view+json": {
       "model_id": "142fa5e8c462425691d022fd1c672b4d",
       "version_major": 2,
       "version_minor": 0
      },
      "text/plain": [
       "Downloading:   0%|          | 0.00/446k [00:00<?, ?B/s]"
      ]
     },
     "metadata": {},
     "output_type": "display_data"
    },
    {
     "data": {
      "application/vnd.jupyter.widget-view+json": {
       "model_id": "10af37ad54744c96abf652f6c3fa578d",
       "version_major": 2,
       "version_minor": 0
      },
      "text/plain": [
       "Downloading:   0%|          | 0.00/1.29M [00:00<?, ?B/s]"
      ]
     },
     "metadata": {},
     "output_type": "display_data"
    },
    {
     "data": {
      "application/vnd.jupyter.widget-view+json": {
       "model_id": "bedf7ccd013547f18b3c62d6665de959",
       "version_major": 2,
       "version_minor": 0
      },
      "text/plain": [
       "Downloading:   0%|          | 0.00/16.0 [00:00<?, ?B/s]"
      ]
     },
     "metadata": {},
     "output_type": "display_data"
    },
    {
     "data": {
      "application/vnd.jupyter.widget-view+json": {
       "model_id": "e9fb51aff91348bc86af8dbe3a9e7284",
       "version_major": 2,
       "version_minor": 0
      },
      "text/plain": [
       "Downloading:   0%|          | 0.00/239 [00:00<?, ?B/s]"
      ]
     },
     "metadata": {},
     "output_type": "display_data"
    },
    {
     "data": {
      "application/vnd.jupyter.widget-view+json": {
       "model_id": "e9838ccc62b5465692f1d677bb7e0da9",
       "version_major": 2,
       "version_minor": 0
      },
      "text/plain": [
       "  0%|          | 0/136 [00:00<?, ?ba/s]"
      ]
     },
     "metadata": {},
     "output_type": "display_data"
    },
    {
     "data": {
      "application/vnd.jupyter.widget-view+json": {
       "model_id": "e27c9bd346fb4cd7bd19f0afc692fcc8",
       "version_major": 2,
       "version_minor": 0
      },
      "text/plain": [
       "  0%|          | 0/49 [00:00<?, ?ba/s]"
      ]
     },
     "metadata": {},
     "output_type": "display_data"
    },
    {
     "data": {
      "application/vnd.jupyter.widget-view+json": {
       "model_id": "9724125febf14e4d8f04b518c8d6c60e",
       "version_major": 2,
       "version_minor": 0
      },
      "text/plain": [
       "  0%|          | 0/59 [00:00<?, ?ba/s]"
      ]
     },
     "metadata": {},
     "output_type": "display_data"
    },
    {
     "data": {
      "text/plain": [
       "DatasetDict({\n",
       "    train: Dataset({\n",
       "        features: ['original', 'censored', 'generated_ChrisZeng/t5-base-detox', 'generated_ChrisZeng/t5-v1_1-base-detox', 'generated_ChrisZeng/bart-base-detox'],\n",
       "        num_rows: 8679\n",
       "    })\n",
       "    eval: Dataset({\n",
       "        features: ['original', 'censored', 'generated_ChrisZeng/t5-base-detox', 'generated_ChrisZeng/t5-v1_1-base-detox', 'generated_ChrisZeng/bart-base-detox'],\n",
       "        num_rows: 3100\n",
       "    })\n",
       "    test: Dataset({\n",
       "        features: ['original', 'censored', 'generated_ChrisZeng/t5-base-detox', 'generated_ChrisZeng/t5-v1_1-base-detox', 'generated_ChrisZeng/bart-base-detox'],\n",
       "        num_rows: 3720\n",
       "    })\n",
       "})"
      ]
     },
     "execution_count": 4,
     "metadata": {},
     "output_type": "execute_result"
    }
   ],
   "source": [
    "from transformers import AutoModelForSeq2SeqLM, AutoTokenizer\n",
    "import pandas as pd\n",
    "from datasets import Dataset\n",
    "\n",
    "for model_name in [\"t5-base\", \"t5-v1_1-base\", \"bart-base\"]:\n",
    "    model_name = f\"ChrisZeng/{model_name}-detox\"\n",
    "\n",
    "    model = AutoModelForSeq2SeqLM.from_pretrained(model_name)\n",
    "    tokenizer = AutoTokenizer.from_pretrained(model_name)\n",
    "\n",
    "    model_buffered = model.to(\"cuda\")\n",
    "    tokenizer.padding_side = \"left\"\n",
    "    tokenizer.pad_token = tokenizer.eos_token\n",
    "\n",
    "    dataset_dict = dataset_dict.map(\n",
    "        lambda rec: detox(tokenizer, model_buffered, rec[\"original\"]),\n",
    "        keep_in_memory=True,\n",
    "        batched=True,\n",
    "        batch_size=64,\n",
    "    ).rename_columns({\"generated\": f\"generated_{model_name}\"})\n",
    "\n",
    "    del model_buffered"
   ]
  },
  {
   "cell_type": "code",
   "execution_count": 5,
   "metadata": {},
   "outputs": [],
   "source": [
    "import re\n",
    "\n",
    "\n",
    "class SentenceDetoxer(object):\n",
    "    def __init__(self, toxic_words):\n",
    "        self.replacements = {toxic_word: \"<CSD>\" for toxic_word in toxic_words}\n",
    "        self.pattern = \"|\".join(r\"\\b%s\\b\" % re.escape(s) for s in self.replacements)\n",
    "\n",
    "    def __call__(self, sentence):\n",
    "        return re.sub(\n",
    "            self.pattern, lambda match: self.replacements[match.group(0)], sentence\n",
    "        )\n"
   ]
  },
  {
   "cell_type": "code",
   "execution_count": 6,
   "metadata": {},
   "outputs": [
    {
     "data": {
      "application/vnd.jupyter.widget-view+json": {
       "model_id": "b00fd495dd5b459c9d98241b9560f382",
       "version_major": 2,
       "version_minor": 0
      },
      "text/plain": [
       "  0%|          | 0/8679 [00:00<?, ?ex/s]"
      ]
     },
     "metadata": {},
     "output_type": "display_data"
    },
    {
     "data": {
      "application/vnd.jupyter.widget-view+json": {
       "model_id": "7a3c6d34245543d987587d26c4580187",
       "version_major": 2,
       "version_minor": 0
      },
      "text/plain": [
       "  0%|          | 0/3100 [00:00<?, ?ex/s]"
      ]
     },
     "metadata": {},
     "output_type": "display_data"
    },
    {
     "data": {
      "application/vnd.jupyter.widget-view+json": {
       "model_id": "f7b722e7509d47c2ba99725404486440",
       "version_major": 2,
       "version_minor": 0
      },
      "text/plain": [
       "  0%|          | 0/3720 [00:00<?, ?ex/s]"
      ]
     },
     "metadata": {},
     "output_type": "display_data"
    }
   ],
   "source": [
    "import pandas as pd\n",
    "\n",
    "hatebase = pd.read_csv(\"outputs/hatebase.csv\")\n",
    "hate_words = hatebase[hatebase[\"language\"] == \"English\"][\"word\"]\n",
    "hate_words = hate_words.str.split(\"(\").str[0].str.strip()\n",
    "toxic_words = pd.concat(\n",
    "    [hate_words, pd.read_csv(\"outputs/bad-words.csv\")[\"word\"],]\n",
    ").drop_duplicates()\n",
    "\n",
    "detoxer = SentenceDetoxer(toxic_words)\n",
    "\n",
    "dataset_dict = dataset_dict.map(\n",
    "    lambda record: {\"naive-detox\": detoxer(record[\"original\"])}\n",
    ")\n"
   ]
  },
  {
   "cell_type": "code",
   "execution_count": 8,
   "metadata": {},
   "outputs": [
    {
     "data": {
      "text/plain": [
       "DatasetDict({\n",
       "    train: Dataset({\n",
       "        features: ['original', 'censored', 'generated_ChrisZeng/t5-base-detox', 'generated_ChrisZeng/t5-v1_1-base-detox', 'generated_ChrisZeng/bart-base-detox', 'naive-detox'],\n",
       "        num_rows: 8679\n",
       "    })\n",
       "    eval: Dataset({\n",
       "        features: ['original', 'censored', 'generated_ChrisZeng/t5-base-detox', 'generated_ChrisZeng/t5-v1_1-base-detox', 'generated_ChrisZeng/bart-base-detox', 'naive-detox'],\n",
       "        num_rows: 3100\n",
       "    })\n",
       "    test: Dataset({\n",
       "        features: ['original', 'censored', 'generated_ChrisZeng/t5-base-detox', 'generated_ChrisZeng/t5-v1_1-base-detox', 'generated_ChrisZeng/bart-base-detox', 'naive-detox'],\n",
       "        num_rows: 3720\n",
       "    })\n",
       "})"
      ]
     },
     "execution_count": 8,
     "metadata": {},
     "output_type": "execute_result"
    }
   ],
   "source": [
    "dataset_dict"
   ]
  },
  {
   "cell_type": "code",
   "execution_count": null,
   "metadata": {},
   "outputs": [],
   "source": [
    "for split, dataset in dataset_dict.items():\n",
    "    dataset.to_pandas().to_csv(f\"outputs/generated_outputs_{split}.csv\", index=False)\n"
   ]
  },
  {
   "cell_type": "code",
   "execution_count": 1,
   "metadata": {},
   "outputs": [],
   "source": [
    "import pandas as pd\n",
    "from datasets import Dataset, DatasetDict\n",
    "\n",
    "dataset_dict = DatasetDict(\n",
    "    {\n",
    "        split: Dataset.from_pandas(\n",
    "            pd.read_csv(f\"outputs/generated_outputs_{split}.csv\")\n",
    "        )\n",
    "        for split in [\"train\", \"eval\", \"test\"]\n",
    "    }\n",
    ")\n",
    "\n"
   ]
  },
  {
   "cell_type": "code",
   "execution_count": 2,
   "metadata": {},
   "outputs": [
    {
     "name": "stderr",
     "output_type": "stream",
     "text": [
      "Intel(R) Extension for Scikit-learn* enabled (https://github.com/intel/scikit-learn-intelex)\n",
      "/home/chris-zeng/csci544-project/apex-env/lib/python3.10/site-packages/torch/nn/modules/module.py:1402: UserWarning: positional arguments and argument \"destination\" are deprecated. nn.Module.state_dict will not accept them in the future. Refer to https://pytorch.org/docs/master/generated/torch.nn.Module.html#torch.nn.Module.state_dict for details.\n",
      "  warnings.warn(\n"
     ]
    }
   ],
   "source": [
    "from transformers import pipeline\n",
    "import pandas as pd\n",
    "import numpy as np\n",
    "\n",
    "\n",
    "class ToxicScore(object):\n",
    "    def __init__(self, score_pipeline):\n",
    "        self.score_pipeline = score_pipeline\n",
    "\n",
    "    def __call__(self, inputs):\n",
    "        return np.mean([result[0][\"score\"] for result in detoxify_pipeline(inputs)])\n",
    "\n",
    "\n",
    "detoxify_pipeline = pipeline(\n",
    "    \"text-classification\",\n",
    "    model=\"unitary/toxic-bert\",\n",
    "    tokenizer=\"bert-base-uncased\",\n",
    "    function_to_apply=\"sigmoid\",\n",
    "    return_all_scores=True,\n",
    "    device=0,\n",
    "    batch_size=8,\n",
    ")\n",
    "\n",
    "toxicscore = ToxicScore(detoxify_pipeline)\n",
    "\n",
    "from datasets import load_metric\n",
    "bertscore = load_metric(\"bertscore\")\n",
    "\n"
   ]
  },
  {
   "cell_type": "code",
   "execution_count": 3,
   "metadata": {},
   "outputs": [
    {
     "name": "stderr",
     "output_type": "stream",
     "text": [
      "/home/chris-zeng/csci544-project/apex-env/lib/python3.10/site-packages/torch/nn/modules/module.py:1402: UserWarning: positional arguments and argument \"destination\" are deprecated. nn.Module.state_dict will not accept them in the future. Refer to https://pytorch.org/docs/master/generated/torch.nn.Module.html#torch.nn.Module.state_dict for details.\n",
      "  warnings.warn(\n"
     ]
    }
   ],
   "source": [
    "from datasets import load_metric\n",
    "import numpy as np\n",
    "import pandas as pd\n",
    "from IPython.display import display, Pretty\n",
    "\n",
    "rouge = load_metric(\"rouge\")\n",
    "exact_match = load_metric(\"exact_match\")\n",
    "bertscore = load_metric(\"bertscore\")\n",
    "\n",
    "\n",
    "def compute_metrics(original, generated):\n",
    "    return {\n",
    "        \"similarity\": np.mean(\n",
    "            bertscore.compute(predictions=generated, references=original, lang=\"en\")[\"f1\"]\n",
    "        ),\n",
    "        \"toxicity\": np.mean(toxicscore(generated)),\n",
    "    }\n",
    "\n",
    "\n",
    "metrics = pd.concat(\n",
    "    pd.DataFrame(\n",
    "        compute_metrics(dataset_dict[split][\"original\"], dataset_dict[split][col]),\n",
    "        index=[split, col],\n",
    "    )\n",
    "    for split in dataset_dict.keys()\n",
    "    for col in dataset_dict[split].column_names\n",
    ")\n",
    "\n",
    "metrics\n"
   ]
  }
 ],
 "metadata": {
  "interpreter": {
   "hash": "9bfe89fc0ce62c77ec618165bdab88a97265df2cf55337d24860c2391601a2f4"
  },
  "kernelspec": {
   "display_name": "Python 3.10.4 (conda)",
   "language": "python",
   "name": "python3"
  },
  "language_info": {
   "codemirror_mode": {
    "name": "ipython",
    "version": 3
   },
   "file_extension": ".py",
   "mimetype": "text/x-python",
   "name": "python",
   "nbconvert_exporter": "python",
   "pygments_lexer": "ipython3",
   "version": "3.10.4"
  },
  "orig_nbformat": 4
 },
 "nbformat": 4,
 "nbformat_minor": 2
}
